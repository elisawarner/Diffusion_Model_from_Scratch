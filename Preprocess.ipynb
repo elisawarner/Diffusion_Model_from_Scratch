{
 "cells": [
  {
   "cell_type": "markdown",
   "id": "8e2af021",
   "metadata": {},
   "source": [
    "# Preprocess Cat Data"
   ]
  },
  {
   "cell_type": "markdown",
   "id": "aa1fb7d5-e5bb-4ebb-b3f3-f6da9cdf8d0a",
   "metadata": {},
   "source": [
    "**Author:** Elisa Warner    \n",
    "**Email:** elisawa@umich.edu  \n",
    "**Date:** 04/12/2023  "
   ]
  },
  {
   "cell_type": "markdown",
   "id": "d83dc43a-d7a1-4074-8ebb-68b5485da1bc",
   "metadata": {},
   "source": [
    "**Description:** This step is not necessary, but moves all of the images downloaded from Kaggle into a single folder."
   ]
  },
  {
   "cell_type": "markdown",
   "id": "baa7e5eb-d0f1-4dd4-9ad2-f94405591348",
   "metadata": {},
   "source": [
    "## Import Libraries"
   ]
  },
  {
   "cell_type": "code",
   "execution_count": 37,
   "id": "33dfec8e",
   "metadata": {},
   "outputs": [],
   "source": [
    "import glob\n",
    "import shutil\n",
    "import os\n",
    "from config import *"
   ]
  },
  {
   "cell_type": "code",
   "execution_count": 41,
   "id": "922b6271",
   "metadata": {},
   "outputs": [
    {
     "name": "stdout",
     "output_type": "stream",
     "text": [
      "Number of files to move: 40009\n"
     ]
    }
   ],
   "source": [
    "catfiles = glob.glob(cat_directory + \"*/*/*\") + glob.glob(cat_directory + \"*/*\")\n",
    "print(\"Number of files to move:\", len(catfiles))"
   ]
  },
  {
   "cell_type": "markdown",
   "id": "5cbc8f69",
   "metadata": {},
   "source": [
    "## Move files to a single folder"
   ]
  },
  {
   "cell_type": "code",
   "execution_count": 42,
   "id": "12e2bdef",
   "metadata": {},
   "outputs": [],
   "source": [
    "for f in catfiles:\n",
    "    name = f.split(\"\\\\\")[-1]\n",
    "    shutil.move(f, cat_directory + name)"
   ]
  },
  {
   "cell_type": "markdown",
   "id": "82faafd9",
   "metadata": {},
   "source": [
    "## Delete nested folders"
   ]
  },
  {
   "cell_type": "code",
   "execution_count": 44,
   "id": "530fc97b",
   "metadata": {},
   "outputs": [
    {
     "data": {
      "text/plain": [
       "['C:/Users/elisa/Downloads/catdata\\\\cats',\n",
       " 'C:/Users/elisa/Downloads/catdata\\\\CAT_00',\n",
       " 'C:/Users/elisa/Downloads/catdata\\\\CAT_01',\n",
       " 'C:/Users/elisa/Downloads/catdata\\\\CAT_02',\n",
       " 'C:/Users/elisa/Downloads/catdata\\\\CAT_03',\n",
       " 'C:/Users/elisa/Downloads/catdata\\\\CAT_04',\n",
       " 'C:/Users/elisa/Downloads/catdata\\\\CAT_05',\n",
       " 'C:/Users/elisa/Downloads/catdata\\\\CAT_06']"
      ]
     },
     "execution_count": 44,
     "metadata": {},
     "output_type": "execute_result"
    }
   ],
   "source": [
    "catfiles = glob.glob(cat_directory + \"*\")\n",
    "folders = [f for f in catfiles if \"CAT\" in f or \"cats\" in f]\n",
    "folders"
   ]
  },
  {
   "cell_type": "code",
   "execution_count": 45,
   "id": "cbda6407",
   "metadata": {},
   "outputs": [],
   "source": [
    "for f in folders:\n",
    "    shutil.rmtree(f)"
   ]
  },
  {
   "cell_type": "markdown",
   "id": "b9c54cb8",
   "metadata": {},
   "source": [
    "## Delete security files"
   ]
  },
  {
   "cell_type": "code",
   "execution_count": 48,
   "id": "ac37f0c0",
   "metadata": {},
   "outputs": [],
   "source": [
    "catfiles = glob.glob(cat_directory + \"*.cat\")\n",
    "\n",
    "for f in catfiles:\n",
    "    os.remove(f)"
   ]
  },
  {
   "cell_type": "code",
   "execution_count": 49,
   "id": "62b45780",
   "metadata": {},
   "outputs": [],
   "source": [
    "os.remove(cat_directory + \"Thumbs.db\")"
   ]
  },
  {
   "cell_type": "markdown",
   "id": "98f20cf5",
   "metadata": {},
   "source": [
    "## Move into a single folder for use with ImageFolder"
   ]
  },
  {
   "cell_type": "code",
   "execution_count": 57,
   "id": "a29b3a9d",
   "metadata": {},
   "outputs": [],
   "source": [
    "catfiles = glob.glob(cat_directory + \"*\")\n",
    "os.mkdir(cat_directory + \"0\")\n",
    "\n",
    "for f in catfiles:\n",
    "    name = f.split(\"\\\\\")[-1]\n",
    "    shutil.move(f, cat_directory + \"0/\" + name)"
   ]
  },
  {
   "cell_type": "code",
   "execution_count": null,
   "id": "f2776153",
   "metadata": {},
   "outputs": [],
   "source": []
  }
 ],
 "metadata": {
  "kernelspec": {
   "display_name": "Python 3 (ipykernel)",
   "language": "python",
   "name": "python3"
  },
  "language_info": {
   "codemirror_mode": {
    "name": "ipython",
    "version": 3
   },
   "file_extension": ".py",
   "mimetype": "text/x-python",
   "name": "python",
   "nbconvert_exporter": "python",
   "pygments_lexer": "ipython3",
   "version": "3.11.2"
  }
 },
 "nbformat": 4,
 "nbformat_minor": 5
}
